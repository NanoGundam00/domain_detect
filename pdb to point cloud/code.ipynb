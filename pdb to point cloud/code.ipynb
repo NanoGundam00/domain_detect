{
 "cells": [
  {
   "cell_type": "code",
   "execution_count": null,
   "metadata": {},
   "outputs": [],
   "source": [
    "from Bio import PDB\n",
    "import os\n",
    "\n",
    "# 创建文件夹\n",
    "os.makedirs('./txt', exist_ok=True)\n",
    "\n",
    "for filenames in os.listdir(r'dataset/OmpW_pdb'):\n",
    "    parser = PDB.PDBParser()\n",
    "    io = PDB.PDBIO()\n",
    "    struct = parser.get_structure('demo', './dataset/OmpW_pdb/' + filenames)\n",
    "\n",
    "    # atom_counter = 0\n",
    "    #将结果保存在res文件夹中，且对应原始pdb文件的名字\n",
    "    with open('./txt/' + filenames.replace('.pdb', '.txt'), 'w') as file:\n",
    "        for model in struct:\n",
    "            for chain in model:\n",
    "                for residue in chain:\n",
    "                    for atom in residue:\n",
    "                        # atom_counter += 1\n",
    "                        XYZ = atom.get_coord()\n",
    "                        x_coord = float(XYZ[0])\n",
    "                        y_coord = float(XYZ[1])\n",
    "                        z_coord = float(XYZ[2])\n",
    "                        # print(atom,atom_counter)\n",
    "                        # print('x=',x_coord)\n",
    "                        # print('y=',y_coord)\n",
    "                        # print('z=',z_coord)\n",
    "                        #file.write(str(atom))\n",
    "                        file.write(str(x_coord) + '   ')\n",
    "                        file.write(str(y_coord) + '   ')\n",
    "                        file.write(str(z_coord))\n",
    "                        file.write('\\n')"
   ]
  },
  {
   "cell_type": "code",
   "execution_count": null,
   "metadata": {},
   "outputs": [],
   "source": [
    "import os\n",
    "import open3d as o3d\n",
    "\n",
    "# 文件夹路径\n",
    "folder_path = \"./txt/\"\n",
    "\n",
    "# 新文件夹路径\n",
    "output_folder_path = \"./res\"\n",
    "#创建结果保存的文件夹\n",
    "os.makedirs(output_folder_path, exist_ok=True)\n",
    "\n",
    "# 获取文件夹中的所有文件名\n",
    "file_names = [f for f in os.listdir(folder_path) if f.endswith(\".txt\")]\n",
    "\n",
    "# 循环处理每个文件\n",
    "for file_name in file_names:\n",
    "    # 构建文件的完整路径\n",
    "    file_path = os.path.join(folder_path, file_name)\n",
    "    \n",
    "    # 读取txt文件\n",
    "    point_cloud = o3d.io.read_point_cloud(file_path, format='xyz')\n",
    "    \n",
    "    # 构建输出文件的路径和名称\n",
    "    output_file_name = file_name.replace(\".txt\", \".pcd\")\n",
    "    output_file_path = os.path.join('./res', output_file_name)\n",
    "    \n",
    "    # 保存为pcd文件\n",
    "    o3d.io.write_point_cloud(output_file_path, point_cloud)\n"
   ]
  }
 ],
 "metadata": {
  "kernelspec": {
   "display_name": "machine_learning",
   "language": "python",
   "name": "python3"
  },
  "language_info": {
   "codemirror_mode": {
    "name": "ipython",
    "version": 3
   },
   "file_extension": ".py",
   "mimetype": "text/x-python",
   "name": "python",
   "nbconvert_exporter": "python",
   "pygments_lexer": "ipython3",
   "version": "3.8.16"
  },
  "orig_nbformat": 4
 },
 "nbformat": 4,
 "nbformat_minor": 2
}
