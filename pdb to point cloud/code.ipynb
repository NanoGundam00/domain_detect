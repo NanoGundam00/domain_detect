{
 "cells": [
  {
   "cell_type": "code",
   "execution_count": 1,
   "metadata": {},
   "outputs": [],
   "source": [
    "from Bio import PDB\n",
    "import os\n",
    "\n",
    "# 创建结果文件夹\n",
    "os.makedirs('./res', exist_ok=True)\n",
    "\n",
    "for filenames in os.listdir(r'dataset/OmpW_pdb'):\n",
    "    parser = PDB.PDBParser()\n",
    "    io = PDB.PDBIO()\n",
    "    struct = parser.get_structure('demo', './dataset/OmpW_pdb/' + filenames)\n",
    "\n",
    "    # atom_counter = 0\n",
    "    #将结果保存在res文件夹中，且对应原始pdb文件的名字\n",
    "    with open('./res/' + filenames, 'w') as file:\n",
    "        for model in struct:\n",
    "            for chain in model:\n",
    "                for residue in chain:\n",
    "                    for atom in residue:\n",
    "                        # atom_counter += 1\n",
    "                        XYZ = atom.get_coord()\n",
    "                        x_coord = float(XYZ[0])\n",
    "                        y_coord = float(XYZ[1])\n",
    "                        z_coord = float(XYZ[2])\n",
    "                        # print(atom,atom_counter)\n",
    "                        # print('x=',x_coord)\n",
    "                        # print('y=',y_coord)\n",
    "                        # print('z=',z_coord)\n",
    "                        file.write(str(atom))\n",
    "                        file.write(str(x_coord) + '   ')\n",
    "                        file.write(str(y_coord) + '   ')\n",
    "                        file.write(str(z_coord))\n",
    "                        file.write('\\n')"
   ]
  }
 ],
 "metadata": {
  "kernelspec": {
   "display_name": "machine_learning",
   "language": "python",
   "name": "python3"
  },
  "language_info": {
   "codemirror_mode": {
    "name": "ipython",
    "version": 3
   },
   "file_extension": ".py",
   "mimetype": "text/x-python",
   "name": "python",
   "nbconvert_exporter": "python",
   "pygments_lexer": "ipython3",
   "version": "3.8.16"
  },
  "orig_nbformat": 4
 },
 "nbformat": 4,
 "nbformat_minor": 2
}
